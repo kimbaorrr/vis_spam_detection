{
  "nbformat": 4,
  "nbformat_minor": 0,
  "metadata": {
    "colab": {
      "provenance": [],
      "collapsed_sections": [
        "qSQkQBPGzs6I"
      ]
    },
    "kernelspec": {
      "name": "python3",
      "display_name": "Python 3"
    },
    "language_info": {
      "name": "python"
    }
  },
  "cells": [
    {
      "cell_type": "code",
      "source": [
        "!pip install -q underthesea"
      ],
      "metadata": {
        "id": "SJdWqEYiKDrn"
      },
      "execution_count": null,
      "outputs": []
    },
    {
      "cell_type": "code",
      "execution_count": null,
      "metadata": {
        "id": "iGCMXTkBHuZc"
      },
      "outputs": [],
      "source": [
        "import pandas as pd\n",
        "import numpy as np\n",
        "from sklearn.tree import DecisionTreeClassifier\n",
        "from sklearn.ensemble import *\n",
        "from sklearn.linear_model import LogisticRegression\n",
        "from sklearn.model_selection import train_test_split\n",
        "from sklearn.metrics import *\n",
        "from sklearn.naive_bayes import *\n",
        "import matplotlib.pyplot as plt\n",
        "import seaborn as sns\n",
        "import os\n",
        "from imblearn.under_sampling import RandomUnderSampler\n",
        "import re\n",
        "import pickle\n",
        "from underthesea import word_tokenize\n",
        "import random as rand\n",
        "from wordcloud import WordCloud\n",
        "from gensim.parsing.preprocessing import *\n",
        "import nltk\n",
        "from gensim.models import KeyedVectors\n",
        "import time"
      ]
    },
    {
      "cell_type": "code",
      "source": [
        "# Chọn thư mục hoạt động\n",
        "\n",
        "%cd /content/drive/MyDrive/AI/NLP"
      ],
      "metadata": {
        "colab": {
          "base_uri": "https://localhost:8080/"
        },
        "id": "_ShqDacEIjnN",
        "outputId": "dc26248d-5213-468d-9e40-4dcdc2736eaa"
      },
      "execution_count": null,
      "outputs": [
        {
          "output_type": "stream",
          "name": "stdout",
          "text": [
            "/content/drive/MyDrive/AI/NLP\n"
          ]
        }
      ]
    },
    {
      "cell_type": "code",
      "source": [
        "# Tạo các thư mục liên quan\n",
        "!rm -rf imgs/vis_spam_detection/\n",
        "!rm -rf models/vis_spam_detection/\n",
        "!rm -rf logs/vis_spam_detection/\n",
        "\n",
        "!mkdir -p datasets/vis_spam_detection/\n",
        "!mkdir -p imgs/vis_spam_detection/\n",
        "!mkdir -p models/vis_spam_detection/\n",
        "!mkdir -p logs/vis_spam_detection/"
      ],
      "metadata": {
        "id": "_4Hg2O6rIpjM"
      },
      "execution_count": null,
      "outputs": []
    },
    {
      "cell_type": "code",
      "source": [
        "# Thiết lập chung\n",
        "\n",
        "ds_path = 'datasets/vis_spam_detection/'\n",
        "img_path = 'imgs/vis_spam_detection/'\n",
        "model_path = 'models/vis_spam_detection/'\n",
        "log_path = 'logs/vis_spam_detection/'"
      ],
      "metadata": {
        "id": "vUt9qx1rI259"
      },
      "execution_count": null,
      "outputs": []
    },
    {
      "cell_type": "code",
      "source": [
        "# Tải tập dữ liệu từ Git\n",
        "\n",
        "!rm -f vispamdetection_dataset.zip\n",
        "!wget -nc https://raw.githubusercontent.com/sonlam1102/vispamdetection/main/dataset/vispamdetection_dataset.zip\n",
        "!mv vispamdetection_dataset.zip $ds_path"
      ],
      "metadata": {
        "colab": {
          "base_uri": "https://localhost:8080/"
        },
        "id": "y0Nyj0k_JANW",
        "outputId": "65eefd8b-4185-4d31-f4ea-ac7ad2d65a7a"
      },
      "execution_count": null,
      "outputs": [
        {
          "output_type": "stream",
          "name": "stdout",
          "text": [
            "--2024-08-01 16:49:16--  https://raw.githubusercontent.com/sonlam1102/vispamdetection/main/dataset/vispamdetection_dataset.zip\n",
            "Resolving raw.githubusercontent.com (raw.githubusercontent.com)... 185.199.110.133, 185.199.109.133, 185.199.111.133, ...\n",
            "Connecting to raw.githubusercontent.com (raw.githubusercontent.com)|185.199.110.133|:443... connected.\n",
            "HTTP request sent, awaiting response... 200 OK\n",
            "Length: 1156542 (1.1M) [application/zip]\n",
            "Saving to: ‘vispamdetection_dataset.zip’\n",
            "\n",
            "\r          vispamdet   0%[                    ]       0  --.-KB/s               \rvispamdetection_dat 100%[===================>]   1.10M  --.-KB/s    in 0.08s   \n",
            "\n",
            "2024-08-01 16:49:16 (13.3 MB/s) - ‘vispamdetection_dataset.zip’ saved [1156542/1156542]\n",
            "\n"
          ]
        }
      ]
    },
    {
      "cell_type": "code",
      "source": [
        "# Tải bộ stopwords vietnamese từ Git\n",
        "\n",
        "!wget -nc https://raw.githubusercontent.com/stopwords/vietnamese-stopwords/master/vietnamese-stopwords.txt\n",
        "!mv vietnamese-stopwords.txt $ds_path"
      ],
      "metadata": {
        "colab": {
          "base_uri": "https://localhost:8080/"
        },
        "id": "WZHE3bK9Oy7r",
        "outputId": "e4b71042-cff7-41d1-9240-bc272d6d9243"
      },
      "execution_count": null,
      "outputs": [
        {
          "output_type": "stream",
          "name": "stdout",
          "text": [
            "--2024-08-01 16:49:16--  https://raw.githubusercontent.com/stopwords/vietnamese-stopwords/master/vietnamese-stopwords.txt\n",
            "Resolving raw.githubusercontent.com (raw.githubusercontent.com)... 185.199.108.133, 185.199.109.133, 185.199.110.133, ...\n",
            "Connecting to raw.githubusercontent.com (raw.githubusercontent.com)|185.199.108.133|:443... connected.\n",
            "HTTP request sent, awaiting response... 200 OK\n",
            "Length: 20475 (20K) [text/plain]\n",
            "Saving to: ‘vietnamese-stopwords.txt’\n",
            "\n",
            "\rvietnamese-stopword   0%[                    ]       0  --.-KB/s               \rvietnamese-stopword 100%[===================>]  20.00K  --.-KB/s    in 0.003s  \n",
            "\n",
            "2024-08-01 16:49:16 (7.77 MB/s) - ‘vietnamese-stopwords.txt’ saved [20475/20475]\n",
            "\n"
          ]
        }
      ]
    },
    {
      "cell_type": "code",
      "source": [
        "# Giải nén tập dữ liệu\n",
        "\n",
        "!7z x {ds_path}vispamdetection_dataset.zip -o{ds_path}\n",
        "!ls {ds_path}"
      ],
      "metadata": {
        "colab": {
          "base_uri": "https://localhost:8080/"
        },
        "id": "wfYMtDgfJHeE",
        "outputId": "310179d0-f050-429b-8fa8-1b7697ae3ab6"
      },
      "execution_count": null,
      "outputs": [
        {
          "output_type": "stream",
          "name": "stdout",
          "text": [
            "\n",
            "7-Zip [64] 16.02 : Copyright (c) 1999-2016 Igor Pavlov : 2016-05-21\n",
            "p7zip Version 16.02 (locale=en_US.UTF-8,Utf16=on,HugeFiles=on,64 bits,2 CPUs Intel(R) Xeon(R) CPU @ 2.20GHz (406F0),ASM,AES-NI)\n",
            "\n",
            "Scanning the drive for archives:\n",
            "  0M Scan\b\b\b\b\b\b\b\b\b         \b\b\b\b\b\b\b\b\b1 file, 1156542 bytes (1130 KiB)\n",
            "\n",
            "Extracting archive: datasets/vis_spam_detection/vispamdetection_dataset.zip\n",
            "--\n",
            "Path = datasets/vis_spam_detection/vispamdetection_dataset.zip\n",
            "Type = zip\n",
            "Physical Size = 1156542\n",
            "\n",
            "  0%\b\b\b\b    \b\b\b\b\n",
            "Would you like to replace the existing file:\n",
            "  Path:     datasets/vis_spam_detection/dataset/test.csv\n",
            "  Size:     666251 bytes (651 KiB)\n",
            "  Modified: 2024-07-23 10:39:52\n",
            "with the file from archive:\n",
            "  Path:     dataset/test.csv\n",
            "  Size:     666251 bytes (651 KiB)\n",
            "  Modified: 2021-10-20 23:37:34\n",
            "? (Y)es / (N)o / (A)lways / (S)kip all / A(u)to rename all / (Q)uit? S\n",
            "\n",
            " 20%\b\b\b\b    \b\b\b\bEverything is Ok\n",
            "\n",
            "Files: 0\n",
            "Size:       0\n",
            "Compressed: 1156542\n",
            "dataset      vietnamese-stopwords.txt\t  word2vec_vi_words_100dims.txt\n",
            "dataset.csv  vispamdetection_dataset.zip  word2vec_vi_words_100dims.zip\n"
          ]
        }
      ]
    },
    {
      "cell_type": "markdown",
      "source": [
        "#### Nạp dữ liệu"
      ],
      "metadata": {
        "id": "qSQkQBPGzs6I"
      }
    },
    {
      "cell_type": "code",
      "source": [
        "# Nạp dữ liệu vào bộ nhớ\n",
        "\n",
        "train_df = pd.read_csv(os.path.join(ds_path, 'dataset/train.csv'), delimiter=',')\n",
        "test_df = pd.read_csv(os.path.join(ds_path, 'dataset/test.csv'), delimiter=',')\n",
        "\n",
        "dev_df = pd.read_csv(os.path.join(ds_path, 'dataset/dev.csv'), delimiter=',')\n",
        "\n",
        "# Hợp nhất 2 df train & test\n",
        "df = pd.concat([train_df, test_df], ignore_index=True)\n",
        "df"
      ],
      "metadata": {
        "id": "jPf7pbazK8ol",
        "colab": {
          "base_uri": "https://localhost:8080/"
        },
        "outputId": "9e7cb5f4-056e-43b1-ddf5-597d8d76b906"
      },
      "execution_count": null,
      "outputs": [
        {
          "output_type": "execute_result",
          "data": {
            "text/plain": [
              "       Rating                                            Comment  Label  \\\n",
              "0           5                  Chất lượng sản phẩm tuyệt vời, má      0   \n",
              "1           5  Jdjd is a waste of my time and place to ask qu...      1   \n",
              "2           5  Dhnxncbcncncncncnncncncnncncncncncncncnncncncj...      1   \n",
              "3           5  giao hàng nhanh, đóng gói cẩn thận, sản phẩm n...      0   \n",
              "4           3  Bạt mỏng vs lại không có túi đi kèm để cất khi...      0   \n",
              "...       ...                                                ...    ...   \n",
              "18275       5  Sản phẩm OK rất đẹp !cảm ơn Shop Sp rẻ mà rất ...      0   \n",
              "18276       5  Rêu được lấy từ rừng về đã rửa sạch đất cát rồ...      1   \n",
              "18277       5  Shop giao hàng nhanh nhưng mỗi tội cái shopee ...      1   \n",
              "18278       5  Shop ơi em có đặt 2 ram 8g dr4 nhưng máy em nh...      1   \n",
              "18279       5  Giao hàng nhanh \\nChất liệu tốt. Đựng xà phòng...      0   \n",
              "\n",
              "       SpamLabel  \n",
              "0              0  \n",
              "1              3  \n",
              "2              3  \n",
              "3              0  \n",
              "4              0  \n",
              "...          ...  \n",
              "18275          0  \n",
              "18276          3  \n",
              "18277          2  \n",
              "18278          3  \n",
              "18279          0  \n",
              "\n",
              "[18280 rows x 4 columns]"
            ],
            "text/html": [
              "\n",
              "  <div id=\"df-e18a3625-7b8f-4d1d-a370-d86ec6b3e197\" class=\"colab-df-container\">\n",
              "    <div>\n",
              "<style scoped>\n",
              "    .dataframe tbody tr th:only-of-type {\n",
              "        vertical-align: middle;\n",
              "    }\n",
              "\n",
              "    .dataframe tbody tr th {\n",
              "        vertical-align: top;\n",
              "    }\n",
              "\n",
              "    .dataframe thead th {\n",
              "        text-align: right;\n",
              "    }\n",
              "</style>\n",
              "<table border=\"1\" class=\"dataframe\">\n",
              "  <thead>\n",
              "    <tr style=\"text-align: right;\">\n",
              "      <th></th>\n",
              "      <th>Rating</th>\n",
              "      <th>Comment</th>\n",
              "      <th>Label</th>\n",
              "      <th>SpamLabel</th>\n",
              "    </tr>\n",
              "  </thead>\n",
              "  <tbody>\n",
              "    <tr>\n",
              "      <th>0</th>\n",
              "      <td>5</td>\n",
              "      <td>Chất lượng sản phẩm tuyệt vời, má</td>\n",
              "      <td>0</td>\n",
              "      <td>0</td>\n",
              "    </tr>\n",
              "    <tr>\n",
              "      <th>1</th>\n",
              "      <td>5</td>\n",
              "      <td>Jdjd is a waste of my time and place to ask qu...</td>\n",
              "      <td>1</td>\n",
              "      <td>3</td>\n",
              "    </tr>\n",
              "    <tr>\n",
              "      <th>2</th>\n",
              "      <td>5</td>\n",
              "      <td>Dhnxncbcncncncncnncncncnncncncncncncncnncncncj...</td>\n",
              "      <td>1</td>\n",
              "      <td>3</td>\n",
              "    </tr>\n",
              "    <tr>\n",
              "      <th>3</th>\n",
              "      <td>5</td>\n",
              "      <td>giao hàng nhanh, đóng gói cẩn thận, sản phẩm n...</td>\n",
              "      <td>0</td>\n",
              "      <td>0</td>\n",
              "    </tr>\n",
              "    <tr>\n",
              "      <th>4</th>\n",
              "      <td>3</td>\n",
              "      <td>Bạt mỏng vs lại không có túi đi kèm để cất khi...</td>\n",
              "      <td>0</td>\n",
              "      <td>0</td>\n",
              "    </tr>\n",
              "    <tr>\n",
              "      <th>...</th>\n",
              "      <td>...</td>\n",
              "      <td>...</td>\n",
              "      <td>...</td>\n",
              "      <td>...</td>\n",
              "    </tr>\n",
              "    <tr>\n",
              "      <th>18275</th>\n",
              "      <td>5</td>\n",
              "      <td>Sản phẩm OK rất đẹp !cảm ơn Shop Sp rẻ mà rất ...</td>\n",
              "      <td>0</td>\n",
              "      <td>0</td>\n",
              "    </tr>\n",
              "    <tr>\n",
              "      <th>18276</th>\n",
              "      <td>5</td>\n",
              "      <td>Rêu được lấy từ rừng về đã rửa sạch đất cát rồ...</td>\n",
              "      <td>1</td>\n",
              "      <td>3</td>\n",
              "    </tr>\n",
              "    <tr>\n",
              "      <th>18277</th>\n",
              "      <td>5</td>\n",
              "      <td>Shop giao hàng nhanh nhưng mỗi tội cái shopee ...</td>\n",
              "      <td>1</td>\n",
              "      <td>2</td>\n",
              "    </tr>\n",
              "    <tr>\n",
              "      <th>18278</th>\n",
              "      <td>5</td>\n",
              "      <td>Shop ơi em có đặt 2 ram 8g dr4 nhưng máy em nh...</td>\n",
              "      <td>1</td>\n",
              "      <td>3</td>\n",
              "    </tr>\n",
              "    <tr>\n",
              "      <th>18279</th>\n",
              "      <td>5</td>\n",
              "      <td>Giao hàng nhanh \\nChất liệu tốt. Đựng xà phòng...</td>\n",
              "      <td>0</td>\n",
              "      <td>0</td>\n",
              "    </tr>\n",
              "  </tbody>\n",
              "</table>\n",
              "<p>18280 rows × 4 columns</p>\n",
              "</div>\n",
              "    <div class=\"colab-df-buttons\">\n",
              "\n",
              "  <div class=\"colab-df-container\">\n",
              "    <button class=\"colab-df-convert\" onclick=\"convertToInteractive('df-e18a3625-7b8f-4d1d-a370-d86ec6b3e197')\"\n",
              "            title=\"Convert this dataframe to an interactive table.\"\n",
              "            style=\"display:none;\">\n",
              "\n",
              "  <svg xmlns=\"http://www.w3.org/2000/svg\" height=\"24px\" viewBox=\"0 -960 960 960\">\n",
              "    <path d=\"M120-120v-720h720v720H120Zm60-500h600v-160H180v160Zm220 220h160v-160H400v160Zm0 220h160v-160H400v160ZM180-400h160v-160H180v160Zm440 0h160v-160H620v160ZM180-180h160v-160H180v160Zm440 0h160v-160H620v160Z\"/>\n",
              "  </svg>\n",
              "    </button>\n",
              "\n",
              "  <style>\n",
              "    .colab-df-container {\n",
              "      display:flex;\n",
              "      gap: 12px;\n",
              "    }\n",
              "\n",
              "    .colab-df-convert {\n",
              "      background-color: #E8F0FE;\n",
              "      border: none;\n",
              "      border-radius: 50%;\n",
              "      cursor: pointer;\n",
              "      display: none;\n",
              "      fill: #1967D2;\n",
              "      height: 32px;\n",
              "      padding: 0 0 0 0;\n",
              "      width: 32px;\n",
              "    }\n",
              "\n",
              "    .colab-df-convert:hover {\n",
              "      background-color: #E2EBFA;\n",
              "      box-shadow: 0px 1px 2px rgba(60, 64, 67, 0.3), 0px 1px 3px 1px rgba(60, 64, 67, 0.15);\n",
              "      fill: #174EA6;\n",
              "    }\n",
              "\n",
              "    .colab-df-buttons div {\n",
              "      margin-bottom: 4px;\n",
              "    }\n",
              "\n",
              "    [theme=dark] .colab-df-convert {\n",
              "      background-color: #3B4455;\n",
              "      fill: #D2E3FC;\n",
              "    }\n",
              "\n",
              "    [theme=dark] .colab-df-convert:hover {\n",
              "      background-color: #434B5C;\n",
              "      box-shadow: 0px 1px 3px 1px rgba(0, 0, 0, 0.15);\n",
              "      filter: drop-shadow(0px 1px 2px rgba(0, 0, 0, 0.3));\n",
              "      fill: #FFFFFF;\n",
              "    }\n",
              "  </style>\n",
              "\n",
              "    <script>\n",
              "      const buttonEl =\n",
              "        document.querySelector('#df-e18a3625-7b8f-4d1d-a370-d86ec6b3e197 button.colab-df-convert');\n",
              "      buttonEl.style.display =\n",
              "        google.colab.kernel.accessAllowed ? 'block' : 'none';\n",
              "\n",
              "      async function convertToInteractive(key) {\n",
              "        const element = document.querySelector('#df-e18a3625-7b8f-4d1d-a370-d86ec6b3e197');\n",
              "        const dataTable =\n",
              "          await google.colab.kernel.invokeFunction('convertToInteractive',\n",
              "                                                    [key], {});\n",
              "        if (!dataTable) return;\n",
              "\n",
              "        const docLinkHtml = 'Like what you see? Visit the ' +\n",
              "          '<a target=\"_blank\" href=https://colab.research.google.com/notebooks/data_table.ipynb>data table notebook</a>'\n",
              "          + ' to learn more about interactive tables.';\n",
              "        element.innerHTML = '';\n",
              "        dataTable['output_type'] = 'display_data';\n",
              "        await google.colab.output.renderOutput(dataTable, element);\n",
              "        const docLink = document.createElement('div');\n",
              "        docLink.innerHTML = docLinkHtml;\n",
              "        element.appendChild(docLink);\n",
              "      }\n",
              "    </script>\n",
              "  </div>\n",
              "\n",
              "\n",
              "<div id=\"df-d1d59f9b-60ea-4def-b7f9-d7fc618a6c77\">\n",
              "  <button class=\"colab-df-quickchart\" onclick=\"quickchart('df-d1d59f9b-60ea-4def-b7f9-d7fc618a6c77')\"\n",
              "            title=\"Suggest charts\"\n",
              "            style=\"display:none;\">\n",
              "\n",
              "<svg xmlns=\"http://www.w3.org/2000/svg\" height=\"24px\"viewBox=\"0 0 24 24\"\n",
              "     width=\"24px\">\n",
              "    <g>\n",
              "        <path d=\"M19 3H5c-1.1 0-2 .9-2 2v14c0 1.1.9 2 2 2h14c1.1 0 2-.9 2-2V5c0-1.1-.9-2-2-2zM9 17H7v-7h2v7zm4 0h-2V7h2v10zm4 0h-2v-4h2v4z\"/>\n",
              "    </g>\n",
              "</svg>\n",
              "  </button>\n",
              "\n",
              "<style>\n",
              "  .colab-df-quickchart {\n",
              "      --bg-color: #E8F0FE;\n",
              "      --fill-color: #1967D2;\n",
              "      --hover-bg-color: #E2EBFA;\n",
              "      --hover-fill-color: #174EA6;\n",
              "      --disabled-fill-color: #AAA;\n",
              "      --disabled-bg-color: #DDD;\n",
              "  }\n",
              "\n",
              "  [theme=dark] .colab-df-quickchart {\n",
              "      --bg-color: #3B4455;\n",
              "      --fill-color: #D2E3FC;\n",
              "      --hover-bg-color: #434B5C;\n",
              "      --hover-fill-color: #FFFFFF;\n",
              "      --disabled-bg-color: #3B4455;\n",
              "      --disabled-fill-color: #666;\n",
              "  }\n",
              "\n",
              "  .colab-df-quickchart {\n",
              "    background-color: var(--bg-color);\n",
              "    border: none;\n",
              "    border-radius: 50%;\n",
              "    cursor: pointer;\n",
              "    display: none;\n",
              "    fill: var(--fill-color);\n",
              "    height: 32px;\n",
              "    padding: 0;\n",
              "    width: 32px;\n",
              "  }\n",
              "\n",
              "  .colab-df-quickchart:hover {\n",
              "    background-color: var(--hover-bg-color);\n",
              "    box-shadow: 0 1px 2px rgba(60, 64, 67, 0.3), 0 1px 3px 1px rgba(60, 64, 67, 0.15);\n",
              "    fill: var(--button-hover-fill-color);\n",
              "  }\n",
              "\n",
              "  .colab-df-quickchart-complete:disabled,\n",
              "  .colab-df-quickchart-complete:disabled:hover {\n",
              "    background-color: var(--disabled-bg-color);\n",
              "    fill: var(--disabled-fill-color);\n",
              "    box-shadow: none;\n",
              "  }\n",
              "\n",
              "  .colab-df-spinner {\n",
              "    border: 2px solid var(--fill-color);\n",
              "    border-color: transparent;\n",
              "    border-bottom-color: var(--fill-color);\n",
              "    animation:\n",
              "      spin 1s steps(1) infinite;\n",
              "  }\n",
              "\n",
              "  @keyframes spin {\n",
              "    0% {\n",
              "      border-color: transparent;\n",
              "      border-bottom-color: var(--fill-color);\n",
              "      border-left-color: var(--fill-color);\n",
              "    }\n",
              "    20% {\n",
              "      border-color: transparent;\n",
              "      border-left-color: var(--fill-color);\n",
              "      border-top-color: var(--fill-color);\n",
              "    }\n",
              "    30% {\n",
              "      border-color: transparent;\n",
              "      border-left-color: var(--fill-color);\n",
              "      border-top-color: var(--fill-color);\n",
              "      border-right-color: var(--fill-color);\n",
              "    }\n",
              "    40% {\n",
              "      border-color: transparent;\n",
              "      border-right-color: var(--fill-color);\n",
              "      border-top-color: var(--fill-color);\n",
              "    }\n",
              "    60% {\n",
              "      border-color: transparent;\n",
              "      border-right-color: var(--fill-color);\n",
              "    }\n",
              "    80% {\n",
              "      border-color: transparent;\n",
              "      border-right-color: var(--fill-color);\n",
              "      border-bottom-color: var(--fill-color);\n",
              "    }\n",
              "    90% {\n",
              "      border-color: transparent;\n",
              "      border-bottom-color: var(--fill-color);\n",
              "    }\n",
              "  }\n",
              "</style>\n",
              "\n",
              "  <script>\n",
              "    async function quickchart(key) {\n",
              "      const quickchartButtonEl =\n",
              "        document.querySelector('#' + key + ' button');\n",
              "      quickchartButtonEl.disabled = true;  // To prevent multiple clicks.\n",
              "      quickchartButtonEl.classList.add('colab-df-spinner');\n",
              "      try {\n",
              "        const charts = await google.colab.kernel.invokeFunction(\n",
              "            'suggestCharts', [key], {});\n",
              "      } catch (error) {\n",
              "        console.error('Error during call to suggestCharts:', error);\n",
              "      }\n",
              "      quickchartButtonEl.classList.remove('colab-df-spinner');\n",
              "      quickchartButtonEl.classList.add('colab-df-quickchart-complete');\n",
              "    }\n",
              "    (() => {\n",
              "      let quickchartButtonEl =\n",
              "        document.querySelector('#df-d1d59f9b-60ea-4def-b7f9-d7fc618a6c77 button');\n",
              "      quickchartButtonEl.style.display =\n",
              "        google.colab.kernel.accessAllowed ? 'block' : 'none';\n",
              "    })();\n",
              "  </script>\n",
              "</div>\n",
              "\n",
              "  <div id=\"id_d1575d72-29f6-40f9-b552-c5feab991da9\">\n",
              "    <style>\n",
              "      .colab-df-generate {\n",
              "        background-color: #E8F0FE;\n",
              "        border: none;\n",
              "        border-radius: 50%;\n",
              "        cursor: pointer;\n",
              "        display: none;\n",
              "        fill: #1967D2;\n",
              "        height: 32px;\n",
              "        padding: 0 0 0 0;\n",
              "        width: 32px;\n",
              "      }\n",
              "\n",
              "      .colab-df-generate:hover {\n",
              "        background-color: #E2EBFA;\n",
              "        box-shadow: 0px 1px 2px rgba(60, 64, 67, 0.3), 0px 1px 3px 1px rgba(60, 64, 67, 0.15);\n",
              "        fill: #174EA6;\n",
              "      }\n",
              "\n",
              "      [theme=dark] .colab-df-generate {\n",
              "        background-color: #3B4455;\n",
              "        fill: #D2E3FC;\n",
              "      }\n",
              "\n",
              "      [theme=dark] .colab-df-generate:hover {\n",
              "        background-color: #434B5C;\n",
              "        box-shadow: 0px 1px 3px 1px rgba(0, 0, 0, 0.15);\n",
              "        filter: drop-shadow(0px 1px 2px rgba(0, 0, 0, 0.3));\n",
              "        fill: #FFFFFF;\n",
              "      }\n",
              "    </style>\n",
              "    <button class=\"colab-df-generate\" onclick=\"generateWithVariable('df')\"\n",
              "            title=\"Generate code using this dataframe.\"\n",
              "            style=\"display:none;\">\n",
              "\n",
              "  <svg xmlns=\"http://www.w3.org/2000/svg\" height=\"24px\"viewBox=\"0 0 24 24\"\n",
              "       width=\"24px\">\n",
              "    <path d=\"M7,19H8.4L18.45,9,17,7.55,7,17.6ZM5,21V16.75L18.45,3.32a2,2,0,0,1,2.83,0l1.4,1.43a1.91,1.91,0,0,1,.58,1.4,1.91,1.91,0,0,1-.58,1.4L9.25,21ZM18.45,9,17,7.55Zm-12,3A5.31,5.31,0,0,0,4.9,8.1,5.31,5.31,0,0,0,1,6.5,5.31,5.31,0,0,0,4.9,4.9,5.31,5.31,0,0,0,6.5,1,5.31,5.31,0,0,0,8.1,4.9,5.31,5.31,0,0,0,12,6.5,5.46,5.46,0,0,0,6.5,12Z\"/>\n",
              "  </svg>\n",
              "    </button>\n",
              "    <script>\n",
              "      (() => {\n",
              "      const buttonEl =\n",
              "        document.querySelector('#id_d1575d72-29f6-40f9-b552-c5feab991da9 button.colab-df-generate');\n",
              "      buttonEl.style.display =\n",
              "        google.colab.kernel.accessAllowed ? 'block' : 'none';\n",
              "\n",
              "      buttonEl.onclick = () => {\n",
              "        google.colab.notebook.generateWithVariable('df');\n",
              "      }\n",
              "      })();\n",
              "    </script>\n",
              "  </div>\n",
              "\n",
              "    </div>\n",
              "  </div>\n"
            ],
            "application/vnd.google.colaboratory.intrinsic+json": {
              "type": "dataframe",
              "variable_name": "df",
              "summary": "{\n  \"name\": \"df\",\n  \"rows\": 18280,\n  \"fields\": [\n    {\n      \"column\": \"Rating\",\n      \"properties\": {\n        \"dtype\": \"number\",\n        \"std\": 0,\n        \"min\": 1,\n        \"max\": 5,\n        \"num_unique_values\": 5,\n        \"samples\": [\n          3,\n          2,\n          1\n        ],\n        \"semantic_type\": \"\",\n        \"description\": \"\"\n      }\n    },\n    {\n      \"column\": \"Comment\",\n      \"properties\": {\n        \"dtype\": \"string\",\n        \"num_unique_values\": 18266,\n        \"samples\": [\n          \"Kh\\u1ea9u trang \\u0111\\u01b0\\u1ee3c t\\u1eb7ng r\\u1ea5t xinh \\u1ea1, c\\u1ea3m \\u01a1n shop \\u1ea1. M\\u00ecnh r\\u1ea5t h\\u00e0i l\\u00f2ng\",\n          \"L\\u01b0\\u1eddi ch\\u1ee5p h\\u00ecnh qu\\u00e1 nh\\u01b0ng t\\u1ea5t \\u0111\\u1eb9p l\\u1eafm nha mn n\\u00ean mua \\u1ea1................=)))))))))):))))))))))))))))))))))))))))))))))))))))))))))))\",\n          \"Loa nghe ti\\u1ebfng trong to. R\\u1ea5t oki nha. S\\u1ea1c t\\u1ea7m 7 ti\\u1ebfng \\u0111\\u1ea7y pin. N\\u00f3i chung \\u01b0ng\\nVideo mang t\\u00ednh ch\\u1ea5t nh\\u1eadn xu\"\n        ],\n        \"semantic_type\": \"\",\n        \"description\": \"\"\n      }\n    },\n    {\n      \"column\": \"Label\",\n      \"properties\": {\n        \"dtype\": \"number\",\n        \"std\": 0,\n        \"min\": 0,\n        \"max\": 1,\n        \"num_unique_values\": 2,\n        \"samples\": [\n          1,\n          0\n        ],\n        \"semantic_type\": \"\",\n        \"description\": \"\"\n      }\n    },\n    {\n      \"column\": \"SpamLabel\",\n      \"properties\": {\n        \"dtype\": \"number\",\n        \"std\": 1,\n        \"min\": 0,\n        \"max\": 3,\n        \"num_unique_values\": 4,\n        \"samples\": [\n          3,\n          1\n        ],\n        \"semantic_type\": \"\",\n        \"description\": \"\"\n      }\n    }\n  ]\n}"
            }
          },
          "metadata": {},
          "execution_count": 40
        }
      ]
    },
    {
      "cell_type": "code",
      "source": [
        "# Liệt kê tên các cột\n",
        "\n",
        "df.columns"
      ],
      "metadata": {
        "colab": {
          "base_uri": "https://localhost:8080/"
        },
        "id": "VoBbTJxPLjFE",
        "outputId": "d1e373b6-f34e-4517-9075-6df302db5e29"
      },
      "execution_count": null,
      "outputs": [
        {
          "output_type": "execute_result",
          "data": {
            "text/plain": [
              "Index(['Rating', 'Comment', 'Label', 'SpamLabel'], dtype='object')"
            ]
          },
          "metadata": {},
          "execution_count": 41
        }
      ]
    },
    {
      "cell_type": "code",
      "source": [
        "# Lược bỏ các cột dư thừa\n",
        "\n",
        "df = df[['Comment', 'Label']]\n",
        "df.columns"
      ],
      "metadata": {
        "colab": {
          "base_uri": "https://localhost:8080/"
        },
        "id": "yQIvGFh3LoY7",
        "outputId": "5d56aec1-c881-4c55-aa12-558b1335d68d"
      },
      "execution_count": null,
      "outputs": [
        {
          "output_type": "execute_result",
          "data": {
            "text/plain": [
              "Index(['Comment', 'Label'], dtype='object')"
            ]
          },
          "metadata": {},
          "execution_count": 42
        }
      ]
    },
    {
      "cell_type": "code",
      "source": [
        "# Đổi tên các cột cho dễ nhận biết\n",
        "\n",
        "df = df.rename(columns={'Comment': 'text', 'Label': 'label'})\n",
        "df.columns"
      ],
      "metadata": {
        "colab": {
          "base_uri": "https://localhost:8080/"
        },
        "id": "Z9kMhmzzMOG7",
        "outputId": "ff98eac9-d8b8-47f4-80c2-760fdab92c5c"
      },
      "execution_count": null,
      "outputs": [
        {
          "output_type": "execute_result",
          "data": {
            "text/plain": [
              "Index(['text', 'label'], dtype='object')"
            ]
          },
          "metadata": {},
          "execution_count": 43
        }
      ]
    },
    {
      "cell_type": "code",
      "source": [
        "# Kiểm tra giá trị N/A\n",
        "\n",
        "df.isna().sum()"
      ],
      "metadata": {
        "colab": {
          "base_uri": "https://localhost:8080/"
        },
        "id": "mcqTAiEDMTYL",
        "outputId": "a63090a5-f91e-4d46-c764-f54f63e8dd3d"
      },
      "execution_count": null,
      "outputs": [
        {
          "output_type": "execute_result",
          "data": {
            "text/plain": [
              "text     0\n",
              "label    0\n",
              "dtype: int64"
            ],
            "text/html": [
              "<table border=\"1\" class=\"dataframe\">\n",
              "  <thead>\n",
              "    <tr style=\"text-align: right;\">\n",
              "      <th></th>\n",
              "      <th>0</th>\n",
              "    </tr>\n",
              "  </thead>\n",
              "  <tbody>\n",
              "    <tr>\n",
              "      <th>text</th>\n",
              "      <td>0</td>\n",
              "    </tr>\n",
              "    <tr>\n",
              "      <th>label</th>\n",
              "      <td>0</td>\n",
              "    </tr>\n",
              "  </tbody>\n",
              "</table><br><label><b>dtype:</b> int64</label>"
            ]
          },
          "metadata": {},
          "execution_count": 44
        }
      ]
    },
    {
      "cell_type": "markdown",
      "source": [
        "#### Tiền xử lý thuộc tính Label"
      ],
      "metadata": {
        "id": "CkjuBVaUMd1T"
      }
    },
    {
      "cell_type": "code",
      "source": [
        "# Liệt kê các giá trị duy nhất\n",
        "\n",
        "df['label'].unique()"
      ],
      "metadata": {
        "colab": {
          "base_uri": "https://localhost:8080/"
        },
        "id": "z1hmUC5gMfmy",
        "outputId": "7ba2b2a2-6ccb-4a66-be17-29cb25d81f77"
      },
      "execution_count": null,
      "outputs": [
        {
          "output_type": "execute_result",
          "data": {
            "text/plain": [
              "array([0, 1])"
            ]
          },
          "metadata": {},
          "execution_count": 45
        }
      ]
    },
    {
      "cell_type": "code",
      "source": [
        "# Kiểm tra cân bằng nhãn\n",
        "\n",
        "print(df['label'].value_counts())\n",
        "df['label'].value_counts().plot(kind='bar')"
      ],
      "metadata": {
        "colab": {
          "base_uri": "https://localhost:8080/",
          "height": 535
        },
        "id": "5jFK-3ApMlzj",
        "outputId": "9fe8e66f-4650-4c04-aad2-7d65f01543b2"
      },
      "execution_count": null,
      "outputs": [
        {
          "output_type": "stream",
          "name": "stdout",
          "text": [
            "label\n",
            "0    13452\n",
            "1     4828\n",
            "Name: count, dtype: int64\n"
          ]
        },
        {
          "output_type": "execute_result",
          "data": {
            "text/plain": [
              "<Axes: xlabel='label'>"
            ]
          },
          "metadata": {},
          "execution_count": 46
        },
        {
          "output_type": "display_data",
          "data": {
            "text/plain": [
              "<Figure size 640x480 with 1 Axes>"
            ],
            "image/png": "[encoded data removed]"
          },
          "metadata": {}
        }
      ]
    },
    {
      "cell_type": "code",
      "source": [
        "# Tái cân bằng nhãn bằng under-sample\n",
        "\n",
        "rus = RandomUnderSampler(random_state=42)\n",
        "df, df['label'] = rus.fit_resample(df, df['label'])\n",
        "df.reindex()\n",
        "\n",
        "print(df['label'].value_counts())\n",
        "df['label'].value_counts().plot(kind='bar')"
      ],
      "metadata": {
        "colab": {
          "base_uri": "https://localhost:8080/",
          "height": 534
        },
        "id": "DSetkLpDNTwM",
        "outputId": "5297e487-16ec-4480-cd79-16c25e783710"
      },
      "execution_count": null,
      "outputs": [
        {
          "output_type": "stream",
          "name": "stdout",
          "text": [
            "label\n",
            "0    4828\n",
            "1    4828\n",
            "Name: count, dtype: int64\n"
          ]
        },
        {
          "output_type": "execute_result",
          "data": {
            "text/plain": [
              "<Axes: xlabel='label'>"
            ]
          },
          "metadata": {},
          "execution_count": 47
        },
        {
          "output_type": "display_data",
          "data": {
            "text/plain": [
              "<Figure size 640x480 with 1 Axes>"
            ],
            "image/png": "[encoded data removed]"
          },
          "metadata": {}
        }
      ]
    },
    {
      "cell_type": "code",
      "source": [
        "# Tạo lớp cho thuộc tính label\n",
        "\n",
        "classes = ['not spam', 'spam']"
      ],
      "metadata": {
        "id": "iC2mUPw-No-s"
      },
      "execution_count": null,
      "outputs": []
    },
    {
      "cell_type": "markdown",
      "source": [
        "#### Tiền xử lý thuộc tính Text"
      ],
      "metadata": {
        "id": "Fk5TMPFHN_0M"
      }
    },
    {
      "cell_type": "code",
      "source": [
        "# Tải danh mục stopword vietnamese\n",
        "stop_words_vi = set()\n",
        "\n",
        "with open(os.path.join(ds_path, 'vietnamese-stopwords.txt'), 'r') as f:\n",
        "  for line in f:\n",
        "    stop_words_vi.add(line.strip())\n",
        "\n",
        "list(stop_words_vi)[:5]"
      ],
      "metadata": {
        "colab": {
          "base_uri": "https://localhost:8080/"
        },
        "id": "G7dU1W2qO-PC",
        "outputId": "103d9f57-8173-4ad7-ce47-bfe3ae08a290"
      },
      "execution_count": null,
      "outputs": [
        {
          "output_type": "execute_result",
          "data": {
            "text/plain": [
              "['cho nhau', 'nếu không', 'giống người', 'lấy ráo', 'cả nghe']"
            ]
          },
          "metadata": {},
          "execution_count": 49
        }
      ]
    },
    {
      "cell_type": "code",
      "source": [
        "# Tiền xử lý chuỗi\n",
        "\n",
        "def text_preprocessing(text):\n",
        "  \"\"\"\n",
        "  Tiền xử lý chuỗi\n",
        "  \"\"\"\n",
        "  # Chuyển chữ thường\n",
        "  text = text.lower()\n",
        "  # Loại bỏ URL\n",
        "  text = re.sub(r'http[s]?://\\S+|www\\.\\S+', '', text)\n",
        "  # Loại bỏ html tag\n",
        "  text = strip_tags(text)\n",
        "  # Loại bỏ emoji\n",
        "  text = strip_non_alphanum(text)\n",
        "  # Loại bỏ các số\n",
        "  text = strip_numeric(text)\n",
        "  # Loại bỏ chuỗi nếu sau 10 kí tự liên tục mà không có khoảng trắng\n",
        "  text = re.sub(r'\\b\\w{10,}\\b', '', text)\n",
        "  # Loại bỏ các từ dừng Tiếng Việt\n",
        "  text = ' '.join([word for word in text.split() if word not in stop_words_vi])\n",
        "  # Lược bỏ dấu câu & emoji tiếng Việt\n",
        "  #text = text.encode('ascii', 'ignore').decode('utf-8')\n",
        "  # Loại bỏ các từ dừng tiếng Anh\n",
        "  text = remove_stopwords(text)\n",
        "  # Loại bỏ khoảng trắng thừa\n",
        "  text = strip_multiple_whitespaces(text)\n",
        "  return text\n",
        "\n",
        "demo = df['text'][0]\n",
        "print(text_preprocessing(demo))"
      ],
      "metadata": {
        "id": "bMcUVBqKPcpb",
        "colab": {
          "base_uri": "https://localhost:8080/"
        },
        "outputId": "721fd9a9-3680-4fbb-d4ab-5a8d2ad8b034"
      },
      "execution_count": null,
      "outputs": [
        {
          "output_type": "stream",
          "name": "stdout",
          "text": [
            "chất sản phẩm tuyệt vời má\n"
          ]
        }
      ]
    },
    {
      "cell_type": "code",
      "source": [
        "df['text'] = df['text'].apply(text_preprocessing)\n",
        "df"
      ],
      "metadata": {
        "colab": {
          "base_uri": "https://localhost:8080/",
          "height": 423
        },
        "id": "eMADNYF4Qlgi",
        "outputId": "3103248c-4268-4b38-bcc3-b1488109a366"
      },
      "execution_count": null,
      "outputs": [
        {
          "output_type": "execute_result",
          "data": {
            "text/plain": [
              "                                                    text  label\n",
              "10111  shop mắc cười lắm giao vận kêu giao hủy đơn đi...      0\n",
              "4131        balo giá rẻ màu hình chất tạm đường yếu thừa      0\n",
              "3656   hàng quốc tế ship siêu hàng giao hàng đóng gói...      0\n",
              "987    mua hàng tiki trading tâm nguyên seal đồng hồ ...      0\n",
              "14211     giao hàng đóng gói sản phẩm chắn chất sản phẩm      0\n",
              "...                                                  ...    ...\n",
              "18267  qc soan y gui ban se nhan gb data g toc phut g...      1\n",
              "18272  giao hàng đóng gói đẹp giao hàng chất video tc xu      1\n",
              "18276  rêu rừng rửa sạch đất cát phơi khô nhẹ rải lớp...      1\n",
              "18277  shop giao hàng tội shopee express vớ vẩn vận h...      1\n",
              "18278  shop ram g dr máy ram dr shop thể đổi dùm e ko...      1\n",
              "\n",
              "[9656 rows x 2 columns]"
            ],
            "text/html": [
              "\n",
              "  <div id=\"df-bc2b1c08-21fc-4470-a91c-ec4aa4cb74ba\" class=\"colab-df-container\">\n",
              "    <div>\n",
              "<style scoped>\n",
              "    .dataframe tbody tr th:only-of-type {\n",
              "        vertical-align: middle;\n",
              "    }\n",
              "\n",
              "    .dataframe tbody tr th {\n",
              "        vertical-align: top;\n",
              "    }\n",
              "\n",
              "    .dataframe thead th {\n",
              "        text-align: right;\n",
              "    }\n",
              "</style>\n",
              "<table border=\"1\" class=\"dataframe\">\n",
              "  <thead>\n",
              "    <tr style=\"text-align: right;\">\n",
              "      <th></th>\n",
              "      <th>text</th>\n",
              "      <th>label</th>\n",
              "    </tr>\n",
              "  </thead>\n",
              "  <tbody>\n",
              "    <tr>\n",
              "      <th>10111</th>\n",
              "      <td>shop mắc cười lắm giao vận kêu giao hủy đơn đi...</td>\n",
              "      <td>0</td>\n",
              "    </tr>\n",
              "    <tr>\n",
              "      <th>4131</th>\n",
              "      <td>balo giá rẻ màu hình chất tạm đường yếu thừa</td>\n",
              "      <td>0</td>\n",
              "    </tr>\n",
              "    <tr>\n",
              "      <th>3656</th>\n",
              "      <td>hàng quốc tế ship siêu hàng giao hàng đóng gói...</td>\n",
              "      <td>0</td>\n",
              "    </tr>\n",
              "    <tr>\n",
              "      <th>987</th>\n",
              "      <td>mua hàng tiki trading tâm nguyên seal đồng hồ ...</td>\n",
              "      <td>0</td>\n",
              "    </tr>\n",
              "    <tr>\n",
              "      <th>14211</th>\n",
              "      <td>giao hàng đóng gói sản phẩm chắn chất sản phẩm</td>\n",
              "      <td>0</td>\n",
              "    </tr>\n",
              "    <tr>\n",
              "      <th>...</th>\n",
              "      <td>...</td>\n",
              "      <td>...</td>\n",
              "    </tr>\n",
              "    <tr>\n",
              "      <th>18267</th>\n",
              "      <td>qc soan y gui ban se nhan gb data g toc phut g...</td>\n",
              "      <td>1</td>\n",
              "    </tr>\n",
              "    <tr>\n",
              "      <th>18272</th>\n",
              "      <td>giao hàng đóng gói đẹp giao hàng chất video tc xu</td>\n",
              "      <td>1</td>\n",
              "    </tr>\n",
              "    <tr>\n",
              "      <th>18276</th>\n",
              "      <td>rêu rừng rửa sạch đất cát phơi khô nhẹ rải lớp...</td>\n",
              "      <td>1</td>\n",
              "    </tr>\n",
              "    <tr>\n",
              "      <th>18277</th>\n",
              "      <td>shop giao hàng tội shopee express vớ vẩn vận h...</td>\n",
              "      <td>1</td>\n",
              "    </tr>\n",
              "    <tr>\n",
              "      <th>18278</th>\n",
              "      <td>shop ram g dr máy ram dr shop thể đổi dùm e ko...</td>\n",
              "      <td>1</td>\n",
              "    </tr>\n",
              "  </tbody>\n",
              "</table>\n",
              "<p>9656 rows × 2 columns</p>\n",
              "</div>\n",
              "    <div class=\"colab-df-buttons\">\n",
              "\n",
              "  <div class=\"colab-df-container\">\n",
              "    <button class=\"colab-df-convert\" onclick=\"convertToInteractive('df-bc2b1c08-21fc-4470-a91c-ec4aa4cb74ba')\"\n",
              "            title=\"Convert this dataframe to an interactive table.\"\n",
              "            style=\"display:none;\">\n",
              "\n",
              "  <svg xmlns=\"http://www.w3.org/2000/svg\" height=\"24px\" viewBox=\"0 -960 960 960\">\n",
              "    <path d=\"M120-120v-720h720v720H120Zm60-500h600v-160H180v160Zm220 220h160v-160H400v160Zm0 220h160v-160H400v160ZM180-400h160v-160H180v160Zm440 0h160v-160H620v160ZM180-180h160v-160H180v160Zm440 0h160v-160H620v160Z\"/>\n",
              "  </svg>\n",
              "    </button>\n",
              "\n",
              "  <style>\n",
              "    .colab-df-container {\n",
              "      display:flex;\n",
              "      gap: 12px;\n",
              "    }\n",
              "\n",
              "    .colab-df-convert {\n",
              "      background-color: #E8F0FE;\n",
              "      border: none;\n",
              "      border-radius: 50%;\n",
              "      cursor: pointer;\n",
              "      display: none;\n",
              "      fill: #1967D2;\n",
              "      height: 32px;\n",
              "      padding: 0 0 0 0;\n",
              "      width: 32px;\n",
              "    }\n",
              "\n",
              "    .colab-df-convert:hover {\n",
              "      background-color: #E2EBFA;\n",
              "      box-shadow: 0px 1px 2px rgba(60, 64, 67, 0.3), 0px 1px 3px 1px rgba(60, 64, 67, 0.15);\n",
              "      fill: #174EA6;\n",
              "    }\n",
              "\n",
              "    .colab-df-buttons div {\n",
              "      margin-bottom: 4px;\n",
              "    }\n",
              "\n",
              "    [theme=dark] .colab-df-convert {\n",
              "      background-color: #3B4455;\n",
              "      fill: #D2E3FC;\n",
              "    }\n",
              "\n",
              "    [theme=dark] .colab-df-convert:hover {\n",
              "      background-color: #434B5C;\n",
              "      box-shadow: 0px 1px 3px 1px rgba(0, 0, 0, 0.15);\n",
              "      filter: drop-shadow(0px 1px 2px rgba(0, 0, 0, 0.3));\n",
              "      fill: #FFFFFF;\n",
              "    }\n",
              "  </style>\n",
              "\n",
              "    <script>\n",
              "      const buttonEl =\n",
              "        document.querySelector('#df-bc2b1c08-21fc-4470-a91c-ec4aa4cb74ba button.colab-df-convert');\n",
              "      buttonEl.style.display =\n",
              "        google.colab.kernel.accessAllowed ? 'block' : 'none';\n",
              "\n",
              "      async function convertToInteractive(key) {\n",
              "        const element = document.querySelector('#df-bc2b1c08-21fc-4470-a91c-ec4aa4cb74ba');\n",
              "        const dataTable =\n",
              "          await google.colab.kernel.invokeFunction('convertToInteractive',\n",
              "                                                    [key], {});\n",
              "        if (!dataTable) return;\n",
              "\n",
              "        const docLinkHtml = 'Like what you see? Visit the ' +\n",
              "          '<a target=\"_blank\" href=https://colab.research.google.com/notebooks/data_table.ipynb>data table notebook</a>'\n",
              "          + ' to learn more about interactive tables.';\n",
              "        element.innerHTML = '';\n",
              "        dataTable['output_type'] = 'display_data';\n",
              "        await google.colab.output.renderOutput(dataTable, element);\n",
              "        const docLink = document.createElement('div');\n",
              "        docLink.innerHTML = docLinkHtml;\n",
              "        element.appendChild(docLink);\n",
              "      }\n",
              "    </script>\n",
              "  </div>\n",
              "\n",
              "\n",
              "<div id=\"df-2bc697ee-bfce-40ad-9a1c-5b9dd5f65fb3\">\n",
              "  <button class=\"colab-df-quickchart\" onclick=\"quickchart('df-2bc697ee-bfce-40ad-9a1c-5b9dd5f65fb3')\"\n",
              "            title=\"Suggest charts\"\n",
              "            style=\"display:none;\">\n",
              "\n",
              "<svg xmlns=\"http://www.w3.org/2000/svg\" height=\"24px\"viewBox=\"0 0 24 24\"\n",
              "     width=\"24px\">\n",
              "    <g>\n",
              "        <path d=\"M19 3H5c-1.1 0-2 .9-2 2v14c0 1.1.9 2 2 2h14c1.1 0 2-.9 2-2V5c0-1.1-.9-2-2-2zM9 17H7v-7h2v7zm4 0h-2V7h2v10zm4 0h-2v-4h2v4z\"/>\n",
              "    </g>\n",
              "</svg>\n",
              "  </button>\n",
              "\n",
              "<style>\n",
              "  .colab-df-quickchart {\n",
              "      --bg-color: #E8F0FE;\n",
              "      --fill-color: #1967D2;\n",
              "      --hover-bg-color: #E2EBFA;\n",
              "      --hover-fill-color: #174EA6;\n",
              "      --disabled-fill-color: #AAA;\n",
              "      --disabled-bg-color: #DDD;\n",
              "  }\n",
              "\n",
              "  [theme=dark] .colab-df-quickchart {\n",
              "      --bg-color: #3B4455;\n",
              "      --fill-color: #D2E3FC;\n",
              "      --hover-bg-color: #434B5C;\n",
              "      --hover-fill-color: #FFFFFF;\n",
              "      --disabled-bg-color: #3B4455;\n",
              "      --disabled-fill-color: #666;\n",
              "  }\n",
              "\n",
              "  .colab-df-quickchart {\n",
              "    background-color: var(--bg-color);\n",
              "    border: none;\n",
              "    border-radius: 50%;\n",
              "    cursor: pointer;\n",
              "    display: none;\n",
              "    fill: var(--fill-color);\n",
              "    height: 32px;\n",
              "    padding: 0;\n",
              "    width: 32px;\n",
              "  }\n",
              "\n",
              "  .colab-df-quickchart:hover {\n",
              "    background-color: var(--hover-bg-color);\n",
              "    box-shadow: 0 1px 2px rgba(60, 64, 67, 0.3), 0 1px 3px 1px rgba(60, 64, 67, 0.15);\n",
              "    fill: var(--button-hover-fill-color);\n",
              "  }\n",
              "\n",
              "  .colab-df-quickchart-complete:disabled,\n",
              "  .colab-df-quickchart-complete:disabled:hover {\n",
              "    background-color: var(--disabled-bg-color);\n",
              "    fill: var(--disabled-fill-color);\n",
              "    box-shadow: none;\n",
              "  }\n",
              "\n",
              "  .colab-df-spinner {\n",
              "    border: 2px solid var(--fill-color);\n",
              "    border-color: transparent;\n",
              "    border-bottom-color: var(--fill-color);\n",
              "    animation:\n",
              "      spin 1s steps(1) infinite;\n",
              "  }\n",
              "\n",
              "  @keyframes spin {\n",
              "    0% {\n",
              "      border-color: transparent;\n",
              "      border-bottom-color: var(--fill-color);\n",
              "      border-left-color: var(--fill-color);\n",
              "    }\n",
              "    20% {\n",
              "      border-color: transparent;\n",
              "      border-left-color: var(--fill-color);\n",
              "      border-top-color: var(--fill-color);\n",
              "    }\n",
              "    30% {\n",
              "      border-color: transparent;\n",
              "      border-left-color: var(--fill-color);\n",
              "      border-top-color: var(--fill-color);\n",
              "      border-right-color: var(--fill-color);\n",
              "    }\n",
              "    40% {\n",
              "      border-color: transparent;\n",
              "      border-right-color: var(--fill-color);\n",
              "      border-top-color: var(--fill-color);\n",
              "    }\n",
              "    60% {\n",
              "      border-color: transparent;\n",
              "      border-right-color: var(--fill-color);\n",
              "    }\n",
              "    80% {\n",
              "      border-color: transparent;\n",
              "      border-right-color: var(--fill-color);\n",
              "      border-bottom-color: var(--fill-color);\n",
              "    }\n",
              "    90% {\n",
              "      border-color: transparent;\n",
              "      border-bottom-color: var(--fill-color);\n",
              "    }\n",
              "  }\n",
              "</style>\n",
              "\n",
              "  <script>\n",
              "    async function quickchart(key) {\n",
              "      const quickchartButtonEl =\n",
              "        document.querySelector('#' + key + ' button');\n",
              "      quickchartButtonEl.disabled = true;  // To prevent multiple clicks.\n",
              "      quickchartButtonEl.classList.add('colab-df-spinner');\n",
              "      try {\n",
              "        const charts = await google.colab.kernel.invokeFunction(\n",
              "            'suggestCharts', [key], {});\n",
              "      } catch (error) {\n",
              "        console.error('Error during call to suggestCharts:', error);\n",
              "      }\n",
              "      quickchartButtonEl.classList.remove('colab-df-spinner');\n",
              "      quickchartButtonEl.classList.add('colab-df-quickchart-complete');\n",
              "    }\n",
              "    (() => {\n",
              "      let quickchartButtonEl =\n",
              "        document.querySelector('#df-2bc697ee-bfce-40ad-9a1c-5b9dd5f65fb3 button');\n",
              "      quickchartButtonEl.style.display =\n",
              "        google.colab.kernel.accessAllowed ? 'block' : 'none';\n",
              "    })();\n",
              "  </script>\n",
              "</div>\n",
              "\n",
              "  <div id=\"id_646b9c2b-641f-4a0a-ba81-dcfd5670a697\">\n",
              "    <style>\n",
              "      .colab-df-generate {\n",
              "        background-color: #E8F0FE;\n",
              "        border: none;\n",
              "        border-radius: 50%;\n",
              "        cursor: pointer;\n",
              "        display: none;\n",
              "        fill: #1967D2;\n",
              "        height: 32px;\n",
              "        padding: 0 0 0 0;\n",
              "        width: 32px;\n",
              "      }\n",
              "\n",
              "      .colab-df-generate:hover {\n",
              "        background-color: #E2EBFA;\n",
              "        box-shadow: 0px 1px 2px rgba(60, 64, 67, 0.3), 0px 1px 3px 1px rgba(60, 64, 67, 0.15);\n",
              "        fill: #174EA6;\n",
              "      }\n",
              "\n",
              "      [theme=dark] .colab-df-generate {\n",
              "        background-color: #3B4455;\n",
              "        fill: #D2E3FC;\n",
              "      }\n",
              "\n",
              "      [theme=dark] .colab-df-generate:hover {\n",
              "        background-color: #434B5C;\n",
              "        box-shadow: 0px 1px 3px 1px rgba(0, 0, 0, 0.15);\n",
              "        filter: drop-shadow(0px 1px 2px rgba(0, 0, 0, 0.3));\n",
              "        fill: #FFFFFF;\n",
              "      }\n",
              "    </style>\n",
              "    <button class=\"colab-df-generate\" onclick=\"generateWithVariable('df')\"\n",
              "            title=\"Generate code using this dataframe.\"\n",
              "            style=\"display:none;\">\n",
              "\n",
              "  <svg xmlns=\"http://www.w3.org/2000/svg\" height=\"24px\"viewBox=\"0 0 24 24\"\n",
              "       width=\"24px\">\n",
              "    <path d=\"M7,19H8.4L18.45,9,17,7.55,7,17.6ZM5,21V16.75L18.45,3.32a2,2,0,0,1,2.83,0l1.4,1.43a1.91,1.91,0,0,1,.58,1.4,1.91,1.91,0,0,1-.58,1.4L9.25,21ZM18.45,9,17,7.55Zm-12,3A5.31,5.31,0,0,0,4.9,8.1,5.31,5.31,0,0,0,1,6.5,5.31,5.31,0,0,0,4.9,4.9,5.31,5.31,0,0,0,6.5,1,5.31,5.31,0,0,0,8.1,4.9,5.31,5.31,0,0,0,12,6.5,5.46,5.46,0,0,0,6.5,12Z\"/>\n",
              "  </svg>\n",
              "    </button>\n",
              "    <script>\n",
              "      (() => {\n",
              "      const buttonEl =\n",
              "        document.querySelector('#id_646b9c2b-641f-4a0a-ba81-dcfd5670a697 button.colab-df-generate');\n",
              "      buttonEl.style.display =\n",
              "        google.colab.kernel.accessAllowed ? 'block' : 'none';\n",
              "\n",
              "      buttonEl.onclick = () => {\n",
              "        google.colab.notebook.generateWithVariable('df');\n",
              "      }\n",
              "      })();\n",
              "    </script>\n",
              "  </div>\n",
              "\n",
              "    </div>\n",
              "  </div>\n"
            ],
            "application/vnd.google.colaboratory.intrinsic+json": {
              "type": "dataframe",
              "variable_name": "df",
              "summary": "{\n  \"name\": \"df\",\n  \"rows\": 9656,\n  \"fields\": [\n    {\n      \"column\": \"text\",\n      \"properties\": {\n        \"dtype\": \"string\",\n        \"num_unique_values\": 8709,\n        \"samples\": [\n          \"giao h\\u00e0ng h\\u1eb9n \\u0111\\u00f3ng g\\u00f3i c\\u1ea9n th\\u1eadn m\\u00e1y g\\u1ecdn nh\\u1eb9 build ch\\u1eafn ti\\u1ec7n \\u0111\\u1ecdc s\\u00e1ch \\u01b0ng\",\n          \"ph\\u00edm b\\u1ea5m th\\u1ef1c tiki giao h\\u00e0ng \\u0111i\\u1ec7n\",\n          \"ta y\\u00eau th\\u01b0\\u01a1ng th\\u00e2n \\u0111\\u1eb9p ta gi\\u00e1 tr\\u1ecb tr\\u00e2n qu\\u00fd ta\"\n        ],\n        \"semantic_type\": \"\",\n        \"description\": \"\"\n      }\n    },\n    {\n      \"column\": \"label\",\n      \"properties\": {\n        \"dtype\": \"number\",\n        \"std\": 0,\n        \"min\": 0,\n        \"max\": 1,\n        \"num_unique_values\": 2,\n        \"samples\": [\n          1,\n          0\n        ],\n        \"semantic_type\": \"\",\n        \"description\": \"\"\n      }\n    }\n  ]\n}"
            }
          },
          "metadata": {},
          "execution_count": 51
        }
      ]
    },
    {
      "cell_type": "code",
      "source": [
        "# Áp dụng tokenization cho cột 'text'\n",
        "\n",
        "df['tokens'] = df['text'].apply(word_tokenize)"
      ],
      "metadata": {
        "id": "sFKephvarAJR"
      },
      "execution_count": null,
      "outputs": []
    },
    {
      "cell_type": "code",
      "source": [
        "# Tải mô hình Word2vec đã pretrained PhoW2V\n",
        "\n",
        "!wget -nc 'https://public.vinai.io/word2vec_vi_words_100dims.zip' -P {ds_path}\n",
        "!7z x {ds_path}word2vec_vi_words_100dims.zip -o{ds_path}\n",
        "!ls {ds_path}"
      ],
      "metadata": {
        "colab": {
          "base_uri": "https://localhost:8080/"
        },
        "id": "PeHO6rWbvZmD",
        "outputId": "ce7f4cbd-1d3a-46f2-a1a6-f76cebf92ac0"
      },
      "execution_count": null,
      "outputs": [
        {
          "output_type": "stream",
          "name": "stdout",
          "text": [
            "--2024-08-01 17:03:05--  https://public.vinai.io/word2vec_vi_words_300dims.zip\n",
            "Resolving public.vinai.io (public.vinai.io)... 108.159.227.61, 108.159.227.26, 108.159.227.34, ...\n",
            "Connecting to public.vinai.io (public.vinai.io)|108.159.227.61|:443... connected.\n",
            "HTTP request sent, awaiting response... 200 OK\n",
            "Length: 2315583928 (2.2G) [application/zip]\n",
            "Saving to: ‘datasets/vis_spam_detection/word2vec_vi_words_300dims.zip’\n",
            "\n",
            "word2vec_vi_words_3 100%[===================>]   2.16G  18.8MB/s    in 2m 1s   \n",
            "\n",
            "2024-08-01 17:05:07 (18.3 MB/s) - ‘datasets/vis_spam_detection/word2vec_vi_words_300dims.zip’ saved [2315583928/2315583928]\n",
            "\n",
            "\n",
            "7-Zip [64] 16.02 : Copyright (c) 1999-2016 Igor Pavlov : 2016-05-21\n",
            "p7zip Version 16.02 (locale=en_US.UTF-8,Utf16=on,HugeFiles=on,64 bits,2 CPUs Intel(R) Xeon(R) CPU @ 2.20GHz (406F0),ASM,AES-NI)\n",
            "\n",
            "Scanning the drive for archives:\n",
            "  0M Scan\b\b\b\b\b\b\b\b\b         \b\b\b\b\b\b\b\b\b1 file, 785783878 bytes (750 MiB)\n",
            "\n",
            "Extracting archive: datasets/vis_spam_detection/word2vec_vi_words_100dims.zip\n",
            "--\n",
            "Path = datasets/vis_spam_detection/word2vec_vi_words_100dims.zip\n",
            "Type = zip\n",
            "Physical Size = 785783878\n",
            "\n",
            "  0%\b\b\b\b    \b\b\b\b\n",
            "Would you like to replace the existing file:\n",
            "  Path:     datasets/vis_spam_detection/word2vec_vi_words_100dims.txt\n",
            "  Size:     1914870255 bytes (1827 MiB)\n",
            "  Modified: 2019-10-22 00:05:32\n",
            "with the file from archive:\n",
            "  Path:     word2vec_vi_words_100dims.txt\n",
            "  Size:     1914870255 bytes (1827 MiB)\n",
            "  Modified: 2019-10-22 00:05:32\n",
            "? (Y)es / (N)o / (A)lways / (S)kip all / A(u)to rename all / (Q)uit? S\n",
            "\n",
            "100%\b\b\b\b    \b\b\b\bEverything is Ok\n",
            "\n",
            "Files: 0\n",
            "Size:       0\n",
            "Compressed: 785783878\n",
            "dataset\t\t\t  vispamdetection_dataset.zip\t word2vec_vi_words_300dims.zip\n",
            "dataset.csv\t\t  word2vec_vi_words_100dims.txt\n",
            "vietnamese-stopwords.txt  word2vec_vi_words_100dims.zip\n"
          ]
        }
      ]
    },
    {
      "cell_type": "code",
      "source": [
        "# Vecto hóa văn bản để đưa vào mô hình ML (Word2Vec)\n",
        "\n",
        "sentences = df['tokens'].tolist()\n",
        "vec_model = KeyedVectors.load_word2vec_format(os.path.join(ds_path, 'word2vec_vi_words_100dims.txt'), binary=False)\n",
        "\n",
        "def text_to_vector(text):\n",
        "  vectors = []\n",
        "  words = text.split()\n",
        "  for word in words:\n",
        "    if word in vec_model:\n",
        "      vectors.append(vec_model[word])\n",
        "  if vectors:\n",
        "    return np.mean(vectors, axis=0)\n",
        "  else:\n",
        "    return np.zeros(vec_model.vector_size)\n",
        "\n",
        "text_vectorized = np.array([text_to_vector(text) for text in df['text']])"
      ],
      "metadata": {
        "id": "LhwaLWtOTf_K"
      },
      "execution_count": null,
      "outputs": []
    },
    {
      "cell_type": "code",
      "source": [
        "# Hợp nhất x, y\n",
        "\n",
        "x = text_vectorized\n",
        "y = df['label']\n",
        "\n",
        "print(x.shape, y.shape)"
      ],
      "metadata": {
        "colab": {
          "base_uri": "https://localhost:8080/"
        },
        "id": "Tx1IUFyks90p",
        "outputId": "cf498694-cd9e-4830-e7a0-486726741bdc"
      },
      "execution_count": null,
      "outputs": [
        {
          "output_type": "stream",
          "name": "stdout",
          "text": [
            "(9656, 100) (9656,)\n"
          ]
        }
      ]
    },
    {
      "cell_type": "markdown",
      "source": [
        "#### Đào tạo mô hình & dự đoán"
      ],
      "metadata": {
        "id": "pWpQH0_QVnLI"
      }
    },
    {
      "cell_type": "code",
      "source": [
        "# Tách tập dữ liệu Train/Test\n",
        "\n",
        "x_train, x_test, y_train, y_test = train_test_split(\n",
        "    x, y, test_size=.25, random_state=42, stratify=y\n",
        ")\n",
        "\n",
        "print('Train:',x_train.shape[0])\n",
        "print('Test:',x_test.shape[0])"
      ],
      "metadata": {
        "colab": {
          "base_uri": "https://localhost:8080/"
        },
        "id": "ac3rkl1BUB1Y",
        "outputId": "86a2d406-2581-49bd-e564-e1316b70ac7a"
      },
      "execution_count": null,
      "outputs": [
        {
          "output_type": "stream",
          "name": "stdout",
          "text": [
            "Train: 7242\n",
            "Test: 2414\n"
          ]
        }
      ]
    },
    {
      "cell_type": "code",
      "source": [
        "# Đào tạo & lựa chọn mô hình tốt nhất\n",
        "accuracy_models = {}\n",
        "accuracy_models.clear()\n",
        "\n",
        "models = [\n",
        "    DecisionTreeClassifier(),\n",
        "    RandomForestClassifier(),\n",
        "    LogisticRegression(),\n",
        "    GaussianNB(),\n",
        "    BernoulliNB()\n",
        "]\n",
        "\n",
        "def draw_heat_map(y_test, y_pred):\n",
        "  cm = confusion_matrix(y_test, y_pred)\n",
        "  sns.heatmap(cm, annot=True, fmt='d')\n",
        "  plt.xlabel('Predicted')\n",
        "  plt.ylabel('Truth')\n",
        "  plt.show()\n",
        "\n",
        "for model in models:\n",
        "  start_time = time.time()\n",
        "  model.fit(x_train, y_train)\n",
        "  end_time = time.time()\n",
        "  print('Time for fit:', end_time - start_time)\n",
        "\n",
        "  y_pred = model.predict(x_test)\n",
        "  acc = accuracy_score(y_test, y_pred)\n",
        "  print(model, acc)\n",
        "  accuracy_models[model] = accuracy_score(y_test, y_pred)\n",
        "  print(classification_report(y_test, y_pred))\n",
        "\n",
        "  # Vẽ ma trận nhầm lẫn\n",
        "  draw_heat_map(y_test, y_pred)\n",
        "\n",
        "# Lưu mô hình tốt nhất\n",
        "best_model = max(accuracy_models, key=accuracy_models.get)\n",
        "print('==> Best model:',best_model, accuracy_models[best_model])"
      ],
      "metadata": {
        "colab": {
          "base_uri": "https://localhost:8080/",
          "height": 1000
        },
        "id": "4t17IyPrVqiJ",
        "outputId": "bd6b0776-121f-488b-d304-9aa86846340e"
      },
      "execution_count": null,
      "outputs": [
        {
          "output_type": "stream",
          "name": "stdout",
          "text": [
            "Time for fit: 1.800832986831665\n",
            "DecisionTreeClassifier() 0.648301574150787\n",
            "              precision    recall  f1-score   support\n",
            "\n",
            "           0       0.65      0.66      0.65      1207\n",
            "           1       0.65      0.64      0.64      1207\n",
            "\n",
            "    accuracy                           0.65      2414\n",
            "   macro avg       0.65      0.65      0.65      2414\n",
            "weighted avg       0.65      0.65      0.65      2414\n",
            "\n"
          ]
        },
        {
          "output_type": "display_data",
          "data": {
            "text/plain": [
              "<Figure size 640x480 with 2 Axes>"
            ],
            "image/png": "[encoded data removed]"
          },
          "metadata": {}
        },
        {
          "output_type": "stream",
          "name": "stdout",
          "text": [
            "Time for fit: 13.225385427474976\n",
            "RandomForestClassifier() 0.7526926263463132\n",
            "              precision    recall  f1-score   support\n",
            "\n",
            "           0       0.73      0.79      0.76      1207\n",
            "           1       0.77      0.71      0.74      1207\n",
            "\n",
            "    accuracy                           0.75      2414\n",
            "   macro avg       0.75      0.75      0.75      2414\n",
            "weighted avg       0.75      0.75      0.75      2414\n",
            "\n"
          ]
        },
        {
          "output_type": "display_data",
          "data": {
            "text/plain": [
              "<Figure size 640x480 with 2 Axes>"
            ],
            "image/png": "[encoded data removed]"
          },
          "metadata": {}
        },
        {
          "output_type": "stream",
          "name": "stdout",
          "text": [
            "Time for fit: 0.1110837459564209\n",
            "LogisticRegression() 0.7009113504556752\n",
            "              precision    recall  f1-score   support\n",
            "\n",
            "           0       0.68      0.75      0.72      1207\n",
            "           1       0.72      0.65      0.68      1207\n",
            "\n",
            "    accuracy                           0.70      2414\n",
            "   macro avg       0.70      0.70      0.70      2414\n",
            "weighted avg       0.70      0.70      0.70      2414\n",
            "\n"
          ]
        },
        {
          "output_type": "display_data",
          "data": {
            "text/plain": [
              "<Figure size 640x480 with 2 Axes>"
            ],
            "image/png": "[encoded data removed]"
          },
          "metadata": {}
        },
        {
          "output_type": "stream",
          "name": "stdout",
          "text": [
            "Time for fit: 0.014118194580078125\n",
            "GaussianNB() 0.6727423363711682\n",
            "              precision    recall  f1-score   support\n",
            "\n",
            "           0       0.63      0.84      0.72      1207\n",
            "           1       0.76      0.51      0.61      1207\n",
            "\n",
            "    accuracy                           0.67      2414\n",
            "   macro avg       0.69      0.67      0.66      2414\n",
            "weighted avg       0.69      0.67      0.66      2414\n",
            "\n"
          ]
        },
        {
          "output_type": "display_data",
          "data": {
            "text/plain": [
              "<Figure size 640x480 with 2 Axes>"
            ],
            "image/png": "[encoded data removed]"
          },
          "metadata": {}
        },
        {
          "output_type": "stream",
          "name": "stdout",
          "text": [
            "Time for fit: 0.020514249801635742\n",
            "BernoulliNB() 0.6743993371996686\n",
            "              precision    recall  f1-score   support\n",
            "\n",
            "           0       0.62      0.88      0.73      1207\n",
            "           1       0.80      0.47      0.59      1207\n",
            "\n",
            "    accuracy                           0.67      2414\n",
            "   macro avg       0.71      0.67      0.66      2414\n",
            "weighted avg       0.71      0.67      0.66      2414\n",
            "\n"
          ]
        },
        {
          "output_type": "display_data",
          "data": {
            "text/plain": [
              "<Figure size 640x480 with 2 Axes>"
            ],
            "image/png": "[encoded data removed]"
          },
          "metadata": {}
        },
        {
          "output_type": "stream",
          "name": "stdout",
          "text": [
            "==> Best model: RandomForestClassifier() 0.7526926263463132\n"
          ]
        }
      ]
    },
    {
      "cell_type": "code",
      "source": [
        "# Xuất mô hình\n",
        "\n",
        "with open(os.path.join(model_path, 'vis_spam_detection_model.pkl'), 'wb') as f:\n",
        "  pickle.dump(best_model, f)"
      ],
      "metadata": {
        "id": "DmkyXm0R7eWx"
      },
      "execution_count": null,
      "outputs": []
    },
    {
      "cell_type": "code",
      "source": [
        "# Dự đoán mẫu dữ liệu mới\n",
        "\n",
        "input_texts = [\n",
        "    \"Tui không thích sản phẩm này!!!\",\n",
        "    \"We have detected suspicious activity on your Wells Fargo account. Log in at [Link] to update your account preferences and protect your information\",\n",
        "    \"Hi Grandpa, it’s me – I’ve been in a car accident, and my parents aren’t around. Can you please send me money so I can get home? You can wire funds to me here: [Link]\",\n",
        "    \"Hey, it's [Boss Name]. I'm in a meeting now and need your help with something urgent. Can you transfer $5,000 to this account ASAP? I'll explain everything later. Please keep this confidential.\",\n",
        "    \"Congratulations! You have all been selected to receive a free gift card worth $1000. Click on this link [Link] to claim your reward now. Limited time offer, so act fast! Don't miss out on this amazing opportunity.\",\n",
        "    'Most people are painfully familiar with messages requesting assistance for a family member; these sorts of ruses flooded email inboxes in the early 2000s. Unfortunately, the long-running scam has leaked over to text. It may look something like this:“Your niece has been arrested and needs $7,500.”This is a particularly malicious form of phishing, as it plays into peoples vulnerabilities and prompts impulsive actions. If you receive a message of this kind, refrain from replying and instead contact your relatives for verification.',\n",
        "    'qc soan gui ban se nhan gb data g toc phut goi',\n",
        "    'Tôi muốn mua %& mới',\n",
        "    'Hàng này công nhận # mlem thịt hen 123jds#'\n",
        "    ]\n",
        "\n",
        "for pred_text in input_texts:\n",
        "  pred_text_preprocessed = text_preprocessing(pred_text)\n",
        "  pred_text_vectorized = text_to_vector(pred_text_preprocessed).reshape(1, -1)\n",
        "  result = best_model.predict(pred_text_vectorized)\n",
        "  print('Input:', pred_text)\n",
        "  print('Input preprocessed:', pred_text_preprocessed)\n",
        "  print('Output:',classes[result[0]])\n",
        "  print('\\n')"
      ],
      "metadata": {
        "colab": {
          "base_uri": "https://localhost:8080/"
        },
        "id": "3fHLbK1bZlvH",
        "outputId": "d695e2a8-97e5-490c-f3c7-4067b2784c77"
      },
      "execution_count": null,
      "outputs": [
        {
          "output_type": "stream",
          "name": "stdout",
          "text": [
            "Input: Tui không thích sản phẩm này!!!\n",
            "Input preprocessed: tui sản phẩm\n",
            "Output: not spam\n",
            "\n",
            "\n",
            "Input: We have detected suspicious activity on your Wells Fargo account. Log in at [Link] to update your account preferences and protect your information\n",
            "Input preprocessed: detected activity wells fargo account log link update account protect\n",
            "Output: spam\n",
            "\n",
            "\n",
            "Input: Hi Grandpa, it’s me – I’ve been in a car accident, and my parents aren’t around. Can you please send me money so I can get home? You can wire funds to me here: [Link]\n",
            "Input preprocessed: hi grandpa s ve car accident parents aren t send money home wire funds link\n",
            "Output: spam\n",
            "\n",
            "\n",
            "Input: Hey, it's [Boss Name]. I'm in a meeting now and need your help with something urgent. Can you transfer $5,000 to this account ASAP? I'll explain everything later. Please keep this confidential.\n",
            "Input preprocessed: hey s boss m meeting need help urgent transfer account asap ll explain later\n",
            "Output: spam\n",
            "\n",
            "\n",
            "Input: Congratulations! You have all been selected to receive a free gift card worth $1000. Click on this link [Link] to claim your reward now. Limited time offer, so act fast! Don't miss out on this amazing opportunity.\n",
            "Input preprocessed: selected receive free gift card worth click link link claim reward limited time offer act fast t miss amazing\n",
            "Output: spam\n",
            "\n",
            "\n",
            "Input: Most people are painfully familiar with messages requesting assistance for a family member; these sorts of ruses flooded email inboxes in the early 2000s. Unfortunately, the long-running scam has leaked over to text. It may look something like this:“Your niece has been arrested and needs $7,500.”This is a particularly malicious form of phishing, as it plays into peoples vulnerabilities and prompts impulsive actions. If you receive a message of this kind, refrain from replying and instead contact your relatives for verification.\n",
            "Input preprocessed: people painfully familiar messages family member sorts ruses flooded email inboxes early s long running scam leaked text look like niece arrested needs malicious form phishing plays peoples prompts impulsive actions receive message kind refrain replying instead contact relatives\n",
            "Output: spam\n",
            "\n",
            "\n",
            "Input: qc soan gui ban se nhan gb data g toc phut goi\n",
            "Input preprocessed: qc soan gui ban se nhan gb data g toc phut goi\n",
            "Output: spam\n",
            "\n",
            "\n",
            "Input: Tôi muốn mua %& mới\n",
            "Input preprocessed: mua\n",
            "Output: spam\n",
            "\n",
            "\n",
            "Input: Hàng này công nhận # mlem thịt hen 123jds#\n",
            "Input preprocessed: hàng công mlem thịt hen jds\n",
            "Output: spam\n",
            "\n",
            "\n"
          ]
        }
      ]
    }
  ]
}